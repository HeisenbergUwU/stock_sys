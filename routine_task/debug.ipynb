{
 "cells": [
  {
   "cell_type": "code",
   "execution_count": 4,
   "id": "2d6dc284",
   "metadata": {},
   "outputs": [],
   "source": [
    "from sql.session import session\n",
    "from sql.models import *"
   ]
  },
  {
   "cell_type": "code",
   "execution_count": 11,
   "id": "ba725ae3",
   "metadata": {},
   "outputs": [],
   "source": [
    "db = session()\n",
    "res = db.query(StockData).where(StockData.code==\"sh.600422\").order_by(StockData.date.desc()).first()"
   ]
  },
  {
   "cell_type": "code",
   "execution_count": 12,
   "id": "b4f284eb",
   "metadata": {},
   "outputs": [
    {
     "data": {
      "text/plain": [
       "<sql.models.StockData at 0x7f5f557230>"
      ]
     },
     "execution_count": 12,
     "metadata": {},
     "output_type": "execute_result"
    }
   ],
   "source": [
    "res"
   ]
  },
  {
   "cell_type": "code",
   "execution_count": 10,
   "id": "0e7d24b9",
   "metadata": {},
   "outputs": [
    {
     "name": "stdout",
     "output_type": "stream",
     "text": [
      "login success!\n",
      "login respond error_code:0\n",
      "login respond  error_msg:success\n",
      "query_history_k_data_plus respond error_code:10004012\n",
      "query_history_k_data_plus respond  error_msg:周线指标参数传入错误:tradestatus\n",
      "Empty DataFrame\n",
      "Columns: []\n",
      "Index: []\n",
      "logout success!\n"
     ]
    },
    {
     "data": {
      "text/plain": [
       "<baostock.data.resultset.ResultData at 0x7f67102960>"
      ]
     },
     "execution_count": 10,
     "metadata": {},
     "output_type": "execute_result"
    }
   ],
   "source": [
    "import baostock as bs\n",
    "import pandas as pd\n",
    "\n",
    "#### 登陆系统 ####\n",
    "lg = bs.login()\n",
    "# 显示登陆返回信息\n",
    "print(\"login respond error_code:\" + lg.error_code)\n",
    "print(\"login respond  error_msg:\" + lg.error_msg)\n",
    "\n",
    "#### 获取沪深A股历史K线数据 ####\n",
    "# 详细指标参数，参见“历史行情指标参数”章节；“分钟线”参数与“日线”参数不同。“分钟线”不包含指数。\n",
    "# 分钟线指标：date,time,code,open,high,low,close,volume,amount,adjustflag\n",
    "# 周月线指标：date,code,open,high,low,close,volume,amount,adjustflag,turn,pctChg\n",
    "rs = bs.query_history_k_data_plus(\n",
    "    \"sh.600000\",\n",
    "    \"date,code,open,high,low,close,volume,amount,adjustflag,turn,tradestatus,pctChg,isST\",\n",
    "    start_date=\"2024-07-01\",\n",
    "    end_date=\"2024-12-31\",\n",
    "    frequency=\"w\",\n",
    "    adjustflag=\"3\",\n",
    ")\n",
    "print(\"query_history_k_data_plus respond error_code:\" + rs.error_code)\n",
    "print(\"query_history_k_data_plus respond  error_msg:\" + rs.error_msg)\n",
    "\n",
    "#### 打印结果集 ####\n",
    "data_list = []\n",
    "while (rs.error_code == \"0\") & rs.next():\n",
    "    # 获取一条记录，将记录合并在一起\n",
    "    data_list.append(rs.get_row_data())\n",
    "result = pd.DataFrame(data_list, columns=rs.fields)\n",
    "\n",
    "#### 结果集输出到csv文件 ####\n",
    "result.to_csv(\"D:\\\\history_A_stock_k_data.csv\", index=False)\n",
    "print(result)\n",
    "\n",
    "#### 登出系统 ####\n",
    "bs.logout()"
   ]
  },
  {
   "cell_type": "code",
   "execution_count": null,
   "id": "5ce04572",
   "metadata": {},
   "outputs": [],
   "source": []
  }
 ],
 "metadata": {
  "kernelspec": {
   "display_name": "base",
   "language": "python",
   "name": "python3"
  },
  "language_info": {
   "codemirror_mode": {
    "name": "ipython",
    "version": 3
   },
   "file_extension": ".py",
   "mimetype": "text/x-python",
   "name": "python",
   "nbconvert_exporter": "python",
   "pygments_lexer": "ipython3",
   "version": "3.12.4"
  }
 },
 "nbformat": 4,
 "nbformat_minor": 5
}
